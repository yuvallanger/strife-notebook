{
 "cells": [
  {
   "cell_type": "code",
   "execution_count": 1,
   "metadata": {
    "collapsed": false
   },
   "outputs": [],
   "source": [
    "%matplotlib inline\n",
    "%load_ext autoreload\n",
    "%autoreload 1\n",
    "%aimport strife\n",
    "import strife\n",
    "import numpy as np\n",
    "import numpy\n",
    "import h5py\n",
    "import bz2\n",
    "import json"
   ]
  },
  {
   "cell_type": "code",
   "execution_count": 2,
   "metadata": {
    "collapsed": true
   },
   "outputs": [],
   "source": [
    "from IPython.parallel import Client"
   ]
  },
  {
   "cell_type": "code",
   "execution_count": 3,
   "metadata": {
    "collapsed": true
   },
   "outputs": [],
   "source": [
    "rc = Client()"
   ]
  },
  {
   "cell_type": "code",
   "execution_count": 4,
   "metadata": {
    "collapsed": false
   },
   "outputs": [],
   "source": [
    "dv = rc[:]"
   ]
  },
  {
   "cell_type": "code",
   "execution_count": 5,
   "metadata": {
    "collapsed": false
   },
   "outputs": [
    {
     "data": {
      "text/plain": [
       "<AsyncResult: use_dill>"
      ]
     },
     "execution_count": 5,
     "metadata": {},
     "output_type": "execute_result"
    }
   ],
   "source": [
    "dv.use_dill()"
   ]
  },
  {
   "cell_type": "code",
   "execution_count": 6,
   "metadata": {
    "collapsed": true
   },
   "outputs": [],
   "source": [
    "%pxconfig -a --verbose"
   ]
  },
  {
   "cell_type": "code",
   "execution_count": 7,
   "metadata": {
    "collapsed": false
   },
   "outputs": [
    {
     "name": "stdout",
     "output_type": "stream",
     "text": [
      "importing strife on engine(s)\n",
      "importing numpy on engine(s)\n",
      "importing h5py on engine(s)\n",
      "importing bz2 on engine(s)\n",
      "importing json on engine(s)\n"
     ]
    }
   ],
   "source": [
    "with dv.sync_imports():\n",
    "    import strife\n",
    "    import numpy\n",
    "    import h5py\n",
    "    import bz2\n",
    "    import json"
   ]
  },
  {
   "cell_type": "code",
   "execution_count": 8,
   "metadata": {
    "collapsed": false
   },
   "outputs": [
    {
     "name": "stdout",
     "output_type": "stream",
     "text": [
      "Async parallel execution on engine(s): all\n"
     ]
    },
    {
     "data": {
      "text/plain": [
       "<AsyncResult: finished>"
      ]
     },
     "execution_count": 8,
     "metadata": {},
     "output_type": "execute_result"
    }
   ],
   "source": [
    "%%px --local\n",
    "sample_frequencies = 'frequencies'\n",
    "sample_snapshots = 'snapshots'"
   ]
  },
  {
   "cell_type": "code",
   "execution_count": 9,
   "metadata": {
    "collapsed": false
   },
   "outputs": [
    {
     "name": "stdout",
     "output_type": "stream",
     "text": [
      "Async parallel execution on engine(s): all\n"
     ]
    },
    {
     "data": {
      "text/plain": [
       "<AsyncResult: finished>"
      ]
     },
     "execution_count": 9,
     "metadata": {},
     "output_type": "execute_result"
    }
   ],
   "source": [
    "%%px --local\n",
    "params_index_to_value = dict(\n",
    "    D=['0', '0.2', '0.4'],\n",
    "    pgcost=[10, 30],\n",
    "    seed=[1, 2],\n",
    ")"
   ]
  },
  {
   "cell_type": "code",
   "execution_count": 10,
   "metadata": {
    "collapsed": true
   },
   "outputs": [],
   "source": [
    "make_params_index_dict_list = lambda: [\n",
    "    dict(\n",
    "        seed=seed,\n",
    "        D=D,\n",
    "        pgcost=pgcost,\n",
    "        cth=cth,\n",
    "        sth=sth,\n",
    "    )\n",
    "    for D in range(3)\n",
    "    for seed in range(2)\n",
    "    for pgcost in range(2)\n",
    "    for cth in range(10)\n",
    "    for sth in range(10)\n",
    "]"
   ]
  },
  {
   "cell_type": "code",
   "execution_count": 11,
   "metadata": {
    "collapsed": false
   },
   "outputs": [
    {
     "name": "stdout",
     "output_type": "stream",
     "text": [
      "Async parallel execution on engine(s): all\n"
     ]
    },
    {
     "data": {
      "text/plain": [
       "<AsyncResult: finished>"
      ]
     },
     "execution_count": 11,
     "metadata": {},
     "output_type": "execute_result"
    }
   ],
   "source": [
    "%%px --local\n",
    "def from_params_index_to_params_values(index_dict):\n",
    "    params_dict = {k: v for k, v in index_dict.items()}\n",
    "    for k, v in index_dict.items():\n",
    "        if k in ['D', 'pgcost', 'seed']: params_dict[k] = params_index_to_value[k][v]\n",
    "    return params_dict"
   ]
  },
  {
   "cell_type": "code",
   "execution_count": 12,
   "metadata": {
    "collapsed": false
   },
   "outputs": [
    {
     "name": "stdout",
     "output_type": "stream",
     "text": [
      "Async parallel execution on engine(s): all\n"
     ]
    },
    {
     "data": {
      "text/plain": [
       "<AsyncResult: finished>"
      ]
     },
     "execution_count": 12,
     "metadata": {},
     "output_type": "execute_result"
    }
   ],
   "source": [
    "%%px --local\n",
    "snapshots_shape = (251, 300, 300)\n",
    "frequencies_shape = (251, 8)"
   ]
  },
  {
   "cell_type": "markdown",
   "metadata": {
    "collapsed": false
   },
   "source": [
    "    for params in make_params_list():\n",
    "        params_values = from_params_index_to_params_values(params)\n",
    "        seed = params_values['seed']\n",
    "        pgcost = params_values['pgcost']\n",
    "        D = params_values['D']\n",
    "        sth = params_values['sth']\n",
    "        cth = params_values['cth']\n",
    "        !mkdir -p hdf5-data/seed-$seed/pgcost-$pgcost/D-$D/sth-$sth/cth-$cth/"
   ]
  },
  {
   "cell_type": "code",
   "execution_count": 13,
   "metadata": {
    "collapsed": false
   },
   "outputs": [
    {
     "name": "stdout",
     "output_type": "stream",
     "text": [
      "Async parallel execution on engine(s): all\n"
     ]
    },
    {
     "data": {
      "text/plain": [
       "<AsyncResult: finished>"
      ]
     },
     "execution_count": 13,
     "metadata": {},
     "output_type": "execute_result"
    }
   ],
   "source": [
    "%%px --local\n",
    "hdf5_filename_templ = 'hdf5-data/seed-{seed}/pgcost-{pgcost}/D-{D}/sth-{sth}/cth-{cth}/{dataset_name}.h5'"
   ]
  },
  {
   "cell_type": "markdown",
   "metadata": {
    "collapsed": true
   },
   "source": [
    "```python\n",
    "def initiate_hdf5_file(params, dataset_name, shape, dtype='uint32'):\n",
    "    params_values = from_params_index_to_params_values(params)\n",
    "    hdf5_filename = hdf5_filename_templ.format(dataset_name=dataset_name, **params_values)\n",
    "    with h5py.File(hdf5_filename) as ff:\n",
    "        dataset = ff.create_dataset(\n",
    "            dataset_name,\n",
    "            shape=shape,\n",
    "            compression='lzf',\n",
    "            dtype=dtype,\n",
    "            fletcher32=True,\n",
    "        )\n",
    "        dataset.dims[0].label = 'generation_index'\n",
    "```"
   ]
  },
  {
   "cell_type": "markdown",
   "metadata": {
    "collapsed": false
   },
   "source": [
    "```python\n",
    "for params in make_params_list():\n",
    "    initiate_hdf5_file(\n",
    "        params,\n",
    "        dataset_name=sample_snapshots,\n",
    "        shape=snapshots_shape,\n",
    "        dtype='uint8',\n",
    "    )\n",
    "    initiate_hdf5_file(\n",
    "        params,\n",
    "        dataset_name=sample_frequencies,\n",
    "        shape=frequencies_shape,\n",
    "        dtype='uint32',\n",
    "    )\n",
    "```"
   ]
  },
  {
   "cell_type": "code",
   "execution_count": 38,
   "metadata": {
    "collapsed": false
   },
   "outputs": [
    {
     "name": "stdout",
     "output_type": "stream",
     "text": [
      "Async parallel execution on engine(s): all\n"
     ]
    },
    {
     "data": {
      "text/plain": [
       "<AsyncResult: execute>"
      ]
     },
     "execution_count": 38,
     "metadata": {},
     "output_type": "execute_result"
    }
   ],
   "source": [
    "%%px\n",
    "def save_datasets(data_array_dict, **params_values):\n",
    "    with h5py.File(hdf5_filename_templ.format(dataset_name=sample_frequencies, **params_values)) as ff:\n",
    "        ff[sample_frequencies][:] = data_array_dict[sample_frequencies]\n",
    "    with h5py.File(hdf5_filename_templ.format(dataset_name=sample_snapshots, **params_values)) as ff:\n",
    "        ff[sample_snapshots][:] = data_array_dict[sample_snapshots]"
   ]
  },
  {
   "cell_type": "code",
   "execution_count": 39,
   "metadata": {
    "collapsed": false
   },
   "outputs": [
    {
     "name": "stdout",
     "output_type": "stream",
     "text": [
      "Async parallel execution on engine(s): all\n"
     ]
    },
    {
     "data": {
      "text/plain": [
       "<AsyncResult: execute>"
      ]
     },
     "execution_count": 39,
     "metadata": {},
     "output_type": "execute_result"
    }
   ],
   "source": [
    "%%px --local\n",
    "def from_json_to_hdf5(params_list):\n",
    "    for params in params_list:\n",
    "        params_values = from_params_index_to_params_values(params)\n",
    "        should_convert = True\n",
    "        with h5py.File(hdf5_filename_templ.format(dataset_name=sample_frequencies, **params_values)) as ff:\n",
    "            if (ff[sample_frequencies][...] > 0).all():\n",
    "                should_convert = False\n",
    "        with h5py.File(hdf5_filename_templ.format(dataset_name=sample_snapshots, **params_values)) as ff_snapshots:\n",
    "            if (ff_snapshots[sample_snapshots][...] > 0).all():\n",
    "                should_convert = False\n",
    "        if should_convert:\n",
    "            data_array_dict = strife.get_data_core(**params_values)\n",
    "            save_datasets(data_array_dict=data_array_dict, **params_values)"
   ]
  },
  {
   "cell_type": "code",
   "execution_count": 40,
   "metadata": {
    "collapsed": false
   },
   "outputs": [
    {
     "data": {
      "text/plain": [
       "<AsyncResult: scatter>"
      ]
     },
     "execution_count": 40,
     "metadata": {},
     "output_type": "execute_result"
    }
   ],
   "source": [
    "dv.scatter('params_list', make_params_index_dict_list())"
   ]
  },
  {
   "cell_type": "code",
   "execution_count": 41,
   "metadata": {
    "collapsed": false
   },
   "outputs": [
    {
     "name": "stdout",
     "output_type": "stream",
     "text": [
      "Async parallel execution on engine(s): all\n"
     ]
    },
    {
     "data": {
      "text/plain": [
       "<AsyncResult: execute>"
      ]
     },
     "execution_count": 41,
     "metadata": {},
     "output_type": "execute_result"
    }
   ],
   "source": [
    "%%px -o conversion_result\n",
    "from_json_to_hdf5(params_list)"
   ]
  },
  {
   "cell_type": "code",
   "execution_count": 51,
   "metadata": {
    "collapsed": false
   },
   "outputs": [
    {
     "data": {
      "text/plain": [
       "27.68613409416667"
      ]
     },
     "execution_count": 51,
     "metadata": {},
     "output_type": "execute_result"
    }
   ],
   "source": [
    "conversion_result.elapsed/60/60"
   ]
  }
 ],
 "metadata": {
  "kernelspec": {
   "display_name": "Python 3",
   "language": "python",
   "name": "python3"
  },
  "language_info": {
   "codemirror_mode": {
    "name": "ipython",
    "version": 3
   },
   "file_extension": ".py",
   "mimetype": "text/x-python",
   "name": "python",
   "nbconvert_exporter": "python",
   "pygments_lexer": "ipython3",
   "version": "3.4.0"
  }
 },
 "nbformat": 4,
 "nbformat_minor": 0
}
